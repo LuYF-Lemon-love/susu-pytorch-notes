{
 "cells": [
  {
   "cell_type": "code",
   "execution_count": 1,
   "id": "ab73575d",
   "metadata": {},
   "outputs": [],
   "source": [
    "# 01_fixed_random_seed\n",
    "#\n",
    "# created by LuYF-Lemon-love <luyanfeng_nlp@qq.com> on March 14, 2023\n",
    "# updated by LuYF-Lemon-love <luyanfeng_nlp@qq.com> on March 14, 2023\n",
    "#\n",
    "# 该脚本展示了固定随机种子\n",
    "#\n",
    "# 需要的包:\n",
    "#          random\n",
    "#          os\n",
    "#          numpy\n",
    "#          torch\n",
    "#\n",
    "# 源教程链接: https://blog.csdn.net/qq_15557299/article/details/128762349 ."
   ]
  },
  {
   "cell_type": "code",
   "execution_count": 2,
   "id": "f71aaaee",
   "metadata": {},
   "outputs": [],
   "source": [
    "import random\n",
    "import os\n",
    "import torch\n",
    "import numpy as np\n",
    "\n",
    "def seed_torch(seed=42):\n",
    "    seed = int(seed)\n",
    "    random.seed(seed)\n",
    "    os.environ['PYTHONHASHSEED'] = str(seed)\n",
    "    np.random.seed(seed)\n",
    "    torch.manual_seed(seed)\n",
    "    torch.cuda.manual_seed(seed)\n",
    "    torch.cuda.manual_seed_all(seed)\n",
    "    torch.backends.cudnn.deterministic = True\n",
    "    torch.backends.cudnn.benchmark = False\n",
    "    torch.backends.cudnn.enabled = True\n",
    "    \n",
    "seed_torch()"
   ]
  },
  {
   "cell_type": "code",
   "execution_count": 3,
   "id": "bb812c3d",
   "metadata": {},
   "outputs": [
    {
     "name": "stdout",
     "output_type": "stream",
     "text": [
      "Help on built-in function randint:\n",
      "\n",
      "randint(...)\n",
      "    randint(low=0, high, size, \\*, generator=None, out=None, dtype=None, layout=torch.strided, device=None, requires_grad=False) -> Tensor\n",
      "    \n",
      "    Returns a tensor filled with random integers generated uniformly\n",
      "    between :attr:`low` (inclusive) and :attr:`high` (exclusive).\n",
      "    \n",
      "    The shape of the tensor is defined by the variable argument :attr:`size`.\n",
      "    \n",
      "    .. note::\n",
      "        With the global dtype default (``torch.float32``), this function returns\n",
      "        a tensor with dtype ``torch.int64``.\n",
      "    \n",
      "    Args:\n",
      "        low (int, optional): Lowest integer to be drawn from the distribution. Default: 0.\n",
      "        high (int): One above the highest integer to be drawn from the distribution.\n",
      "        size (tuple): a tuple defining the shape of the output tensor.\n",
      "    \n",
      "    Keyword args:\n",
      "        generator (:class:`torch.Generator`, optional): a pseudorandom number generator for sampling\n",
      "        out (Tensor, optional): the output tensor.\n",
      "        dtype (:class:`torch.dtype`, optional): the desired data type of returned tensor.\n",
      "            Default: if ``None``, uses a global default (see :func:`torch.set_default_tensor_type`).\n",
      "        layout (:class:`torch.layout`, optional): the desired layout of returned Tensor.\n",
      "            Default: ``torch.strided``.\n",
      "        device (:class:`torch.device`, optional): the desired device of returned tensor.\n",
      "            Default: if ``None``, uses the current device for the default tensor type\n",
      "            (see :func:`torch.set_default_tensor_type`). :attr:`device` will be the CPU\n",
      "            for CPU tensor types and the current CUDA device for CUDA tensor types.\n",
      "        requires_grad (bool, optional): If autograd should record operations on the\n",
      "            returned tensor. Default: ``False``.\n",
      "    \n",
      "    Example::\n",
      "    \n",
      "        >>> torch.randint(3, 5, (3,))\n",
      "        tensor([4, 3, 4])\n",
      "    \n",
      "    \n",
      "        >>> torch.randint(10, (2, 2))\n",
      "        tensor([[0, 2],\n",
      "                [5, 5]])\n",
      "    \n",
      "    \n",
      "        >>> torch.randint(3, 10, (2, 2))\n",
      "        tensor([[4, 5],\n",
      "                [6, 7]])\n",
      "\n"
     ]
    }
   ],
   "source": [
    "help(torch.randint)"
   ]
  },
  {
   "cell_type": "code",
   "execution_count": 4,
   "id": "76e77290",
   "metadata": {},
   "outputs": [
    {
     "data": {
      "text/plain": [
       "tensor([[4, 5],\n",
       "        [7, 8]])"
      ]
     },
     "execution_count": 4,
     "metadata": {},
     "output_type": "execute_result"
    }
   ],
   "source": [
    "torch.randint(3, 10, (2, 2))"
   ]
  },
  {
   "cell_type": "code",
   "execution_count": 5,
   "id": "45df9719",
   "metadata": {},
   "outputs": [
    {
     "data": {
      "text/plain": [
       "tensor([[7, 6],\n",
       "        [8, 8]])"
      ]
     },
     "execution_count": 5,
     "metadata": {},
     "output_type": "execute_result"
    }
   ],
   "source": [
    "torch.randint(3, 10, (2, 2))"
   ]
  }
 ],
 "metadata": {
  "kernelspec": {
   "display_name": "Python 3 (ipykernel)",
   "language": "python",
   "name": "python3"
  },
  "language_info": {
   "codemirror_mode": {
    "name": "ipython",
    "version": 3
   },
   "file_extension": ".py",
   "mimetype": "text/x-python",
   "name": "python",
   "nbconvert_exporter": "python",
   "pygments_lexer": "ipython3",
   "version": "3.8.1"
  }
 },
 "nbformat": 4,
 "nbformat_minor": 5
}
